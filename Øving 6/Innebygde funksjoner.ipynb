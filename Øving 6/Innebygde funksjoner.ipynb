{
 "cells": [
  {
   "cell_type": "markdown",
   "metadata": {
    "deletable": false,
    "editable": false,
    "run_control": {
     "frozen": true
    }
   },
   "source": [
    "<nav class=\"navbar navbar-default\">\n",
    "  <div class=\"container-fluid\">\n",
    "    <div class=\"navbar-header\">\n",
    "      <a class=\"navbar-brand\" href=\"_Oving6.ipynb\">Øving 6</a>\n",
    "    </div>\n",
    "    <ul class=\"nav navbar-nav\">\n",
    "    <li ><a href=\"Aksessering.ipynb\">Aksessering av karakter</a></li>\n",
    "    <li ><a href=\"Strenger%20og%20konkatinering.ipynb\">Konkatinering</a></li>\n",
    "    <li ><a href=\"Slicing.ipynb\">Slicing</a></li>\n",
    "    <li ><a href=\"Tekstbehandling.ipynb\">Tekstbehandling</a></li>\n",
    "    <li ><a href=\"Strenghandtering.ipynb\">Strenghåndtering</a></li>\n",
    "    <li class=\"active\"><a href=\"Innebygde%20funksjoner.ipynb\">Innebygde funksjoner og lister</a></li>\n",
    "    <li><a href=\"Fjesboka.ipynb\">Fjesboka</a></li>\n",
    "    <li ><a href=\"Akkorder%20og%20toner.ipynb\">Akkorder og toner</a></li>\n",
    "    <li ><a href=\"Ideel%20gasslov.ipynb\">Ideel Gasslov</a></li>\n",
    "    <li><a href=\"Sammenhengende%20tallrekke.ipynb\">Sammenhengende Tallrekke</a></li>\n",
    "    <li ><a href=\"Sortering.ipynb\">Sortering</a></li>\n",
    "    <li ><a href=\"Strengmanipulasjon.ipynb\">Strengmanipulasjon</a></li>\n",
    "    <li ><a href=\"Kryptering.ipynb\">Kryptering</a></li>\n",
    "    <li ><a href=\"Litt%20sjakk.ipynb\">Litt Sjakk</a></li>\n",
    "    </ul>\n",
    "  </div>\n",
    "</nav>\n",
    "\n",
    "# Innebygde funksjoner og lister\n",
    "\n",
    "**Læringsmål:**\n",
    "\n",
    "* Lister\n",
    "* Innebygde funksjoner\n",
    "\n",
    "**Starting Out with Python:**\n",
    "\n",
    "* Kap. 7: Lists and Tuples\n",
    " \n",
    "\n",
    "I denne oppgaven skal vi bruke innebygde funksjoner i Python til å behandle lister. \n",
    "\n",
    "Du finner informasjon og nyttige metoder [her](https://docs.python.org/3/tutorial/datastructures.html). (bruk disse!)"
   ]
  },
  {
   "cell_type": "markdown",
   "metadata": {
    "deletable": false,
    "editable": false,
    "run_control": {
     "frozen": true
    }
   },
   "source": [
    "### a)"
   ]
  },
  {
   "cell_type": "markdown",
   "metadata": {
    "deletable": false,
    "editable": false,
    "run_control": {
     "frozen": true
    }
   },
   "source": [
    "Opprett en liste random_numbers bestående av 100 tilfeldige heltall fra 1 til og med 10.\n",
    "\n",
    "**Eksempel på slik liste:**\n",
    ">```python\n",
    "[9, 7, 4, 3, 2, 3, 9, 4, 4, 1, 1, 3, 4, 9, 5, 5, 3, 4, 7, 8, 9, 4, 6, 6, 1, 6, 5, 7, 2, 5, 7, 1, 9, 4, 9, 6, 1, 1, 1, 5, 6, 5, 9, 10, 5, 7, 4, 4, 10, 4, 4, 8, 1, 5, 4, 9, 5, 5, 2, 8, 10, 8, 1, 5, 10, 8, 3, 3, 7, 7, 6, 3, 3, 3, 4, 9, 4, 8, 4, 6, 1, 10, 3, 6, 5, 7, 10, 9, 9, 1, 10, 3, 2, 3, 6, 9, 8, 3, 2, 5]\n",
    "```\n",
    "\n",
    "***Skriv koden din i kodeblokken under:***"
   ]
  },
  {
   "cell_type": "code",
   "execution_count": 2,
   "metadata": {
    "ExecuteTime": {
     "end_time": "2019-07-04T06:23:49.753780Z",
     "start_time": "2019-07-04T06:23:49.747792Z"
    }
   },
   "outputs": [
    {
     "name": "stdout",
     "output_type": "stream",
     "text": [
      "[6, 67, 46, 61, 43, 30, 41, 14, 16, 51, 21, 26, 89, 100, 20, 41, 54, 25, 76, 37, 83, 43, 65, 55, 31, 52, 58, 41, 84, 98, 46, 4, 44, 56, 59, 53, 6, 89, 99, 13, 62, 78, 62, 17, 94, 50, 68, 5, 96, 21, 33, 35, 73, 41, 69, 39, 87, 66, 84, 70, 78, 50, 45, 1, 50, 82, 100, 79, 53, 75, 45, 90, 92, 93, 93, 90, 49, 90, 69, 42, 2, 35, 27, 82, 36, 28, 91, 86, 15, 51, 3, 94, 51, 85, 37, 40, 48, 91, 64, 56]\n"
     ]
    }
   ],
   "source": [
    "import random\n",
    "\n",
    "def random_numbers():\n",
    "    liste = []\n",
    "    nummer = 0\n",
    "    for i in range (100):\n",
    "        nummer = random.randint(1,100)\n",
    "        liste.insert(i, nummer)\n",
    "    return liste\n",
    "\n",
    "print(random_numbers())"
   ]
  },
  {
   "cell_type": "markdown",
   "metadata": {
    "deletable": false,
    "editable": false,
    "run_control": {
     "frozen": true
    }
   },
   "source": [
    "### b)"
   ]
  },
  {
   "cell_type": "markdown",
   "metadata": {
    "deletable": false,
    "editable": false,
    "run_control": {
     "frozen": true
    }
   },
   "source": [
    "Skriv kode for å finne antall forekomster av tallet **2** i listen.\n",
    "\n",
    "**Eksempel på kjøring for listen i a):**\n",
    "\n",
    ">```\n",
    "Number of 2s: 5\n",
    "```\n",
    "\n",
    "***Skriv koden din i kodeblokken under:***"
   ]
  },
  {
   "cell_type": "code",
   "execution_count": 6,
   "metadata": {},
   "outputs": [
    {
     "name": "stdout",
     "output_type": "stream",
     "text": [
      "Number of 2s: 0\n"
     ]
    }
   ],
   "source": [
    "def forekomst(liste, tall):\n",
    "        \n",
    "    return(f\"Number of {tall}s: {liste.count(tall)}\")\n",
    "    \n",
    "print(forekomst(random_numbers(), 2))\n",
    "\n",
    "        "
   ]
  },
  {
   "cell_type": "markdown",
   "metadata": {
    "deletable": false,
    "editable": false,
    "run_control": {
     "frozen": true
    }
   },
   "source": [
    "### c)"
   ]
  },
  {
   "cell_type": "markdown",
   "metadata": {
    "deletable": false,
    "editable": false,
    "run_control": {
     "frozen": true
    }
   },
   "source": [
    "Skriv ut summen av alle tallene i listen.\n",
    "\n",
    "**Eksempel på kjøring for listen i a):**\n",
    ">```python\n",
    "Sum of numbers: 529\n",
    "```\n",
    "\n",
    "***Skriv koden din i kodeblokken under:***"
   ]
  },
  {
   "cell_type": "code",
   "execution_count": 9,
   "metadata": {},
   "outputs": [
    {
     "name": "stdout",
     "output_type": "stream",
     "text": [
      "5296\n",
      "15\n"
     ]
    }
   ],
   "source": [
    "def sum_av_liste(liste):\n",
    "    return sum(liste)\n",
    "\n",
    "tilfliste = [1,2,3,4,5]\n",
    "\n",
    "print(sum_av_liste(random_numbers()))\n",
    "\n",
    "print(sum_av_liste(tilfliste))"
   ]
  },
  {
   "cell_type": "markdown",
   "metadata": {
    "deletable": false,
    "editable": false,
    "run_control": {
     "frozen": true
    }
   },
   "source": [
    "### d)"
   ]
  },
  {
   "cell_type": "markdown",
   "metadata": {
    "ExecuteTime": {
     "end_time": "2019-07-04T06:31:17.550677Z",
     "start_time": "2019-07-04T06:31:17.541661Z"
    },
    "deletable": false,
    "editable": false,
    "run_control": {
     "frozen": true
    }
   },
   "source": [
    "Sorter listen i stigende rekkefølge.\n",
    "\n",
    "**Eksempel på kjøring for listen i a):**\n",
    ">```python\n",
    "Numbers sorted: [1, 1, 1, 1, 1, 1, 1, 1, 1, 1, 1, 2, 2, 2, 2, 2, 3, 3, 3, 3, 3, 3, 3, 3, 3, 3, 3, 3, 3, 4, 4, 4, 4, 4, 4, 4, 4, 4, 4, 4, 4, 4, 4, 4, 5, 5, 5, 5, 5, 5, 5, 5, 5, 5, 5, 5, 5, 6, 6, 6, 6, 6, 6, 6, 6, 6, 7, 7, 7, 7, 7, 7, 7, 7, 8, 8, 8, 8, 8, 8, 8, 9, 9, 9, 9, 9, 9, 9, 9, 9, 9, 9, 9, 10, 10, 10, 10, 10, 10, 10]\n",
    "```\n",
    "\n",
    "***Skriv koden din i kodeblokken under:***"
   ]
  },
  {
   "cell_type": "code",
   "execution_count": 7,
   "metadata": {},
   "outputs": [
    {
     "name": "stdout",
     "output_type": "stream",
     "text": [
      " nummere sortert: [1, 1, 4, 5, 5, 5, 6, 9, 9, 12, 14, 14, 15, 15, 16, 16, 17, 18, 18, 20, 20, 23, 23, 24, 24, 24, 25, 25, 26, 26, 27, 29, 29, 32, 32, 32, 33, 34, 34, 35, 35, 36, 36, 37, 37, 37, 38, 40, 42, 44, 46, 48, 49, 49, 55, 56, 60, 61, 61, 61, 62, 64, 64, 65, 66, 71, 73, 73, 75, 76, 76, 77, 77, 80, 80, 84, 84, 84, 86, 86, 87, 87, 88, 88, 88, 89, 89, 90, 90, 91, 92, 92, 92, 95, 95, 96, 96, 96, 98, 99]\n"
     ]
    }
   ],
   "source": [
    "def sorter(liste):\n",
    "    nyliste = sorted(liste)\n",
    "    print (f\" nummere sortert: {nyliste}\")\n",
    "\n",
    "sorter(random_numbers())"
   ]
  },
  {
   "cell_type": "markdown",
   "metadata": {
    "deletable": false,
    "editable": false,
    "run_control": {
     "frozen": true
    }
   },
   "source": [
    "### e)"
   ]
  },
  {
   "cell_type": "markdown",
   "metadata": {
    "deletable": false,
    "editable": false,
    "run_control": {
     "frozen": true
    }
   },
   "source": [
    "Skriv ut typetallet. (Det tallet det er flest forekomster av i listen)\n",
    "\n",
    "**Eksempel på kjøring for listen i a):**\n",
    ">```python\n",
    "There are most of number: 4\n",
    "```\n",
    "\n",
    "***Skriv koden din i kodeblokken under:***"
   ]
  },
  {
   "cell_type": "code",
   "execution_count": 9,
   "metadata": {},
   "outputs": [
    {
     "name": "stdout",
     "output_type": "stream",
     "text": [
      "There are most of number: 11\n"
     ]
    }
   ],
   "source": [
    "def typetall(liste):\n",
    "    return max(liste, key=liste.count) \n",
    "# bruker max for å finne høyeste verdien, og setter key som en regel for hva som er definert som max verdi\n",
    "\n",
    "print(f\"There are most of number: {typetall(random_numbers())}\")"
   ]
  },
  {
   "cell_type": "markdown",
   "metadata": {
    "deletable": false,
    "editable": false,
    "run_control": {
     "frozen": true
    }
   },
   "source": [
    "### f)"
   ]
  },
  {
   "cell_type": "markdown",
   "metadata": {
    "deletable": false,
    "editable": false,
    "run_control": {
     "frozen": true
    }
   },
   "source": [
    "Skriv ut listen baklengs.\n",
    "\n",
    "**Eksempel på kjøring for listen i a):**\n",
    ">```python\n",
    "Numbers reversed: [10, 10, 10, 10, 10, 10, 10, 9, 9, 9, 9, 9, 9, 9, 9, 9, 9, 9, 9, 8, 8, 8, 8, 8, 8, 8, 7, 7, 7, 7, 7, 7, 7, 7, 6, 6, 6, 6, 6, 6, 6, 6, 6, 5, 5, 5, 5, 5, 5, 5, 5, 5, 5, 5, 5, 5, 4, 4, 4, 4, 4, 4, 4, 4, 4, 4, 4, 4, 4, 4, 4, 3, 3, 3, 3, 3, 3, 3, 3, 3, 3, 3, 3, 3, 2, 2, 2, 2, 2, 1, 1, 1, 1, 1, 1, 1, 1, 1, 1, 1]\n",
    "```\n",
    "\n",
    "***Skriv koden din i kodeblokken under:***"
   ]
  },
  {
   "cell_type": "code",
   "execution_count": 12,
   "metadata": {},
   "outputs": [
    {
     "name": "stdout",
     "output_type": "stream",
     "text": [
      "[97, 97, 96, 95, 95, 94, 94, 91, 91, 91, 90, 88, 87, 86, 85, 84, 82, 81, 81, 81, 80, 74, 73, 70, 69, 68, 67, 67, 65, 65, 64, 63, 62, 62, 61, 61, 61, 59, 58, 56, 54, 53, 52, 52, 51, 51, 51, 48, 48, 47, 46, 46, 44, 43, 42, 42, 41, 40, 40, 40, 40, 39, 38, 38, 37, 37, 34, 34, 31, 30, 29, 29, 28, 28, 27, 27, 26, 26, 23, 22, 22, 22, 21, 21, 19, 19, 19, 18, 17, 15, 15, 15, 12, 11, 11, 10, 8, 7, 7, 1]\n"
     ]
    }
   ],
   "source": [
    "def reversed(liste):\n",
    "    ny_liste = sorted(liste, reverse=True) # setter reverse i sorteringsfunksjonen\n",
    "    \n",
    "    \n",
    "    print(ny_liste)\n",
    "    \n",
    "\n",
    "\n",
    "reversed(random_numbers())\n"
   ]
  }
 ],
 "metadata": {
  "kernelspec": {
   "display_name": "Python 3 (ipykernel)",
   "language": "python",
   "name": "python3"
  },
  "language_info": {
   "codemirror_mode": {
    "name": "ipython",
    "version": 3
   },
   "file_extension": ".py",
   "mimetype": "text/x-python",
   "name": "python",
   "nbconvert_exporter": "python",
   "pygments_lexer": "ipython3",
   "version": "3.9.7"
  },
  "toc": {
   "base_numbering": 1,
   "nav_menu": {},
   "number_sections": false,
   "sideBar": true,
   "skip_h1_title": false,
   "title_cell": "Table of Contents",
   "title_sidebar": "Contents",
   "toc_cell": false,
   "toc_position": {},
   "toc_section_display": true,
   "toc_window_display": false
  }
 },
 "nbformat": 4,
 "nbformat_minor": 4
}
